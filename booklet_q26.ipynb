{
 "cells": [
  {
   "cell_type": "code",
   "execution_count": 14,
   "metadata": {},
   "outputs": [],
   "source": [
    "import numpy as np\n",
    "\n",
    "\"\"\" Q1 \"\"\"\n",
    "def E_X(joint,x):\n",
    "    p_X = np.sum(joint,1)\n",
    "    return np.sum(np.dot(x,p_X))\n",
    "\n",
    "def E_Y(joint,y):\n",
    "    p_Y = np.sum(joint,0)\n",
    "    return np.sum(np.dot(y,p_Y))\n",
    "\n",
    "def E_X_given_Y(joint,x):\n",
    "    p_Y = np.sum(joint,0)\n",
    "    result = 0\n",
    "    for i,py in enumerate(p_Y):\n",
    "        result += np.dot(joint[:,i],x) / py\n",
    "    return result\n",
    "\n",
    "def E_Y_given_X(joint,y):\n",
    "    p_X = np.sum(joint,1)\n",
    "    result = 0\n",
    "    for i,px in enumerate(p_X):\n",
    "        result += np.dot(joint[i,:],y) / px\n",
    "    return result\n",
    "\n",
    "def Cov_X_Y(joint,x,y):\n",
    "    mu_x = E_X(joint,x)\n",
    "    mu_y = E_Y(joint,y)\n",
    "    result = 0\n",
    "    for i,xx in enumerate(x):\n",
    "        for j,yy in enumerate(y):\n",
    "            result += joint[i,j]*(xx-mu_x)*(yy-mu_y)\n",
    "    return result\n"
   ]
  },
  {
   "cell_type": "code",
   "execution_count": 39,
   "metadata": {},
   "outputs": [],
   "source": [
    "\"\"\" Q2 \"\"\"\n",
    "\n",
    "def entropy_joint(joint):\n",
    "    result = 0\n",
    "    for i,p in enumerate(joint.flat):\n",
    "        if p == 0: continue\n",
    "        else: result += -p * np.log2(p)\n",
    "    return result"
   ]
  },
  {
   "cell_type": "code",
   "execution_count": 43,
   "metadata": {},
   "outputs": [],
   "source": [
    "\"\"\" Q3 \"\"\"\n",
    "def marg_entropy_X(joint):\n",
    "    p_X = np.sum(joint,1)\n",
    "    result = 0\n",
    "    for p in p_X:\n",
    "        if p == 0: continue\n",
    "        else: result += -p * np.log2(p)\n",
    "    return result\n",
    "\n",
    "def marg_entropy_Y(joint):\n",
    "    p_Y = np.sum(joint,0)\n",
    "    result = 0\n",
    "    for p in p_Y:\n",
    "        if p == 0: continue\n",
    "        else: result += -p * np.log2(p)\n",
    "    return result\n",
    "    \n",
    "    "
   ]
  },
  {
   "cell_type": "code",
   "execution_count": 49,
   "metadata": {},
   "outputs": [],
   "source": [
    "\"\"\" Q4 \"\"\"\n",
    "\n",
    "def entropy_X_given_Y(joint):\n",
    "    p_X_given_Y = np.zeros_like(joint)\n",
    "    p_Y = np.sum(joint,0)\n",
    "    for iy,py in enumerate(p_Y): \n",
    "        p_X_given_Y[:,iy] = joint[:,iy] / py\n",
    "    result = 0\n",
    "    for ix,iy in np.ndindex(joint.shape):\n",
    "        if p_X_given_Y[ix,iy]==0: continue\n",
    "        else:\n",
    "            result += -joint[ix,iy] * np.log2(p_X_given_Y[ix,iy])\n",
    "    return result\n",
    "\n",
    "def entropy_Y_given_X(joint):\n",
    "    p_Y_given_X = np.zeros_like(joint)\n",
    "    p_X = np.sum(joint,1)\n",
    "    for ix,px in enumerate(p_X): \n",
    "        p_Y_given_X[ix,:] = joint[ix,:] / px\n",
    "    result = 0\n",
    "    for ix,iy in np.ndindex(joint.shape):\n",
    "        if p_Y_given_X[ix,iy]==0: continue\n",
    "        else:\n",
    "            result += -joint[ix,iy] * np.log2(p_Y_given_X[ix,iy])\n",
    "    return result\n",
    "\n"
   ]
  },
  {
   "cell_type": "code",
   "execution_count": 51,
   "metadata": {},
   "outputs": [],
   "source": [
    "\"\"\" Q5 \"\"\"\n",
    "def mutual_info(joint):\n",
    "    return marg_entropy_X(joint)-entropy_X_given_Y(joint)\n",
    "    "
   ]
  },
  {
   "cell_type": "code",
   "execution_count": 55,
   "metadata": {},
   "outputs": [
    {
     "name": "stdout",
     "output_type": "stream",
     "text": [
      "Logarithms are base 2\n",
      "E[X]\t= 1.4\n",
      "E[Y]\t= 0.09999999999999998\n",
      "E[X|Y]\t= 4.65\n",
      "E[Y|X]\t= 0.5\n",
      "Cov(X,Y)= 0.36000000000000004\n",
      "H(X,Y)\t= 2.1709505944546685\n",
      "H(X)\t= 0.9709505944546686\n",
      "H(Y)\t= 1.3609640474436813\n",
      "H(X|Y)\t= 0.8099865470109875\n",
      "H(Y|X)\t= 1.2\n",
      "I(X;Y)\t= 0.1609640474436811\n"
     ]
    }
   ],
   "source": [
    "\"\"\" test \"\"\"\n",
    "x=np.array([1,2])\n",
    "y=np.array([-1,0,5])\n",
    "joint=np.array([[0.3,0.3,0.0],[0.1,0.2,0.1]])\n",
    "\n",
    "print('Logarithms are base 2!')\n",
    "print('E[X]\\t=',E_X(joint,x))\n",
    "print('E[Y]\\t=',E_Y(joint,y))\n",
    "print('E[X|Y]\\t=',E_X_given_Y(joint,x))\n",
    "print('E[Y|X]\\t=',E_Y_given_X(joint,y))\n",
    "print('Cov(X,Y)=',Cov_X_Y(joint,x,y))\n",
    "print('H(X,Y)\\t=',entropy_joint(joint))\n",
    "print('H(X)\\t=',marg_entropy_X(joint))\n",
    "print('H(Y)\\t=',marg_entropy_Y(joint))\n",
    "print('H(X|Y)\\t=',entropy_X_given_Y(joint))\n",
    "print('H(Y|X)\\t=',entropy_Y_given_X(joint))\n",
    "print('I(X;Y)\\t=',mutual_info(joint))\n",
    "\n",
    "\n",
    "    \n"
   ]
  },
  {
   "cell_type": "code",
   "execution_count": null,
   "metadata": {},
   "outputs": [],
   "source": []
  }
 ],
 "metadata": {
  "kernelspec": {
   "display_name": "Python 3",
   "language": "python",
   "name": "python3"
  },
  "language_info": {
   "codemirror_mode": {
    "name": "ipython",
    "version": 3
   },
   "file_extension": ".py",
   "mimetype": "text/x-python",
   "name": "python",
   "nbconvert_exporter": "python",
   "pygments_lexer": "ipython3",
   "version": "3.6.5"
  }
 },
 "nbformat": 4,
 "nbformat_minor": 2
}
